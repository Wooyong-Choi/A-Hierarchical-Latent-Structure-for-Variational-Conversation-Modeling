{
 "cells": [
  {
   "cell_type": "code",
   "execution_count": 50,
   "metadata": {},
   "outputs": [],
   "source": [
    "import sys\n",
    "import pickle\n",
    "import numpy as np\n",
    "\n",
    "from train import load_pickle\n",
    "from utils import Vocab\n",
    "from adem_data_loader import get_adem_loader\n",
    "from adem_configs import get_adem_config\n",
    "\n",
    "from adem_model import ADEM"
   ]
  },
  {
   "cell_type": "code",
   "execution_count": 2,
   "metadata": {},
   "outputs": [],
   "source": [
    "sys.argv = [\n",
    "    'train.py',\n",
    "    \n",
    "    # Mode\n",
    "    '--mode', 'train',\n",
    "    \n",
    "    # Generation\n",
    "    '--temperature', '1.0',\n",
    "    '--beam_size', '5',\n",
    "    \n",
    "    # Model    \n",
    "    '--model', 'ADEM',\n",
    "    '--context_size', '400',\n",
    "    '--embedding_size', '300',\n",
    "    '--encoder_hidden_size', '400',\n",
    "    '--bidirectional', 'True',\n",
    "    '--decoder_hidden_size', '800',\n",
    "    \n",
    "    '--data', 'smart_ko_adem',\n",
    "]"
   ]
  },
  {
   "cell_type": "code",
   "execution_count": null,
   "metadata": {},
   "outputs": [],
   "source": []
  },
  {
   "cell_type": "code",
   "execution_count": 3,
   "metadata": {},
   "outputs": [],
   "source": [
    "adem_config = get_adem_config(sys.argv)"
   ]
  },
  {
   "cell_type": "code",
   "execution_count": 4,
   "metadata": {},
   "outputs": [
    {
     "name": "stdout",
     "output_type": "stream",
     "text": [
      "Loading Vocabulary...\n",
      "Vocabulary size: 63625\n"
     ]
    }
   ],
   "source": [
    "print('Loading Vocabulary...')\n",
    "vocab = Vocab()\n",
    "vocab.load(adem_config.word2id_path, adem_config.id2word_path)\n",
    "print(f'Vocabulary size: {vocab.vocab_size}')"
   ]
  },
  {
   "cell_type": "code",
   "execution_count": 5,
   "metadata": {},
   "outputs": [],
   "source": [
    "adem_config.vocab_size = vocab.vocab_size"
   ]
  },
  {
   "cell_type": "code",
   "execution_count": 6,
   "metadata": {},
   "outputs": [],
   "source": [
    "adem_data_loader = get_adem_loader(\n",
    "    sentences=load_pickle(adem_config.sentences_path),\n",
    "    conversation_length=load_pickle(adem_config.conversation_length_path),\n",
    "    sentence_length=load_pickle(adem_config.sentence_length_path),\n",
    "    score=load_pickle(adem_config.score_path),\n",
    "    vocab=vocab,\n",
    "    batch_size=64,\n",
    "    shuffle=False)"
   ]
  },
  {
   "cell_type": "code",
   "execution_count": null,
   "metadata": {},
   "outputs": [],
   "source": []
  },
  {
   "cell_type": "code",
   "execution_count": 7,
   "metadata": {
    "scrolled": true
   },
   "outputs": [
    {
     "name": "stderr",
     "output_type": "stream",
     "text": [
      "/usr/local/lib/python3.6/dist-packages/torch/nn/modules/rnn.py:38: UserWarning: dropout option adds dropout after all but last recurrent layer, so non-zero dropout expects num_layers greater than 1, but got dropout=0.2 and num_layers=1\n",
      "  \"num_layers={}\".format(dropout, num_layers))\n"
     ]
    }
   ],
   "source": [
    "adem = ADEM(adem_config)"
   ]
  },
  {
   "cell_type": "code",
   "execution_count": 8,
   "metadata": {
    "scrolled": true
   },
   "outputs": [
    {
     "name": "stdout",
     "output_type": "stream",
     "text": [
      "encoder.embedding.weight\n",
      "encoder.rnn.weight_ih_l0\n",
      "encoder.rnn.weight_hh_l0\n",
      "encoder.rnn.bias_ih_l0\n",
      "encoder.rnn.bias_hh_l0\n",
      "encoder.rnn.weight_ih_l0_reverse\n",
      "encoder.rnn.weight_hh_l0_reverse\n",
      "encoder.rnn.bias_ih_l0_reverse\n",
      "encoder.rnn.bias_hh_l0_reverse\n",
      "context_encoder.rnn.weight_ih_l0\n",
      "context_encoder.rnn.weight_hh_l0\n",
      "context_encoder.rnn.bias_ih_l0\n",
      "context_encoder.rnn.bias_hh_l0\n"
     ]
    }
   ],
   "source": [
    "pretrained_path = 'pretrained_vhred.pkl'\n",
    "adem.load_pretrained_model(pretrained_path)"
   ]
  },
  {
   "cell_type": "code",
   "execution_count": 15,
   "metadata": {},
   "outputs": [
    {
     "data": {
      "text/plain": [
       "ADEM(\n",
       "  (encoder): EncoderRNN(\n",
       "    (embedding): Embedding(63625, 300, padding_idx=0)\n",
       "    (rnn): GRU(300, 400, batch_first=True, dropout=0.2, bidirectional=True)\n",
       "  )\n",
       "  (context_encoder): ContextRNN(\n",
       "    (rnn): GRU(800, 400, batch_first=True, dropout=0.2)\n",
       "  )\n",
       ")"
      ]
     },
     "execution_count": 15,
     "metadata": {},
     "output_type": "execute_result"
    }
   ],
   "source": [
    "adem"
   ]
  },
  {
   "cell_type": "code",
   "execution_count": null,
   "metadata": {},
   "outputs": [],
   "source": []
  },
  {
   "cell_type": "code",
   "execution_count": 46,
   "metadata": {
    "scrolled": true
   },
   "outputs": [
    {
     "data": {
      "text/plain": [
       "array([[ 0.        ,  0.        ,  0.        , ...,  0.        ,\n",
       "         0.        ,  0.        ],\n",
       "       [ 1.3339272 ,  0.98614734, -1.881724  , ..., -0.27759275,\n",
       "        -0.25167027,  0.9045324 ],\n",
       "       [-0.90530425,  0.04456139, -2.0799513 , ...,  0.558683  ,\n",
       "         0.26754048, -0.37137714],\n",
       "       ...,\n",
       "       [ 1.4056088 ,  0.05423704, -1.088891  , ..., -1.0354873 ,\n",
       "         0.32125464,  1.4435543 ],\n",
       "       [ 0.26614946,  1.3424605 ,  0.76443064, ...,  1.2876545 ,\n",
       "         0.89401686,  0.38838202],\n",
       "       [ 0.1791303 ,  0.13732897,  1.7306836 , ...,  0.38411716,\n",
       "         1.2699164 ,  1.4800925 ]], dtype=float32)"
      ]
     },
     "execution_count": 46,
     "metadata": {},
     "output_type": "execute_result"
    }
   ],
   "source": [
    "adem_emb = list(adem.encoder.embedding.parameters())[0].detach().numpy()\n",
    "adem_emb"
   ]
  },
  {
   "cell_type": "code",
   "execution_count": 47,
   "metadata": {},
   "outputs": [
    {
     "data": {
      "text/plain": [
       "array([[ 0.        ,  0.        ,  0.        , ...,  0.        ,\n",
       "         0.        ,  0.        ],\n",
       "       [ 1.3339272 ,  0.98614734, -1.881724  , ..., -0.27759275,\n",
       "        -0.25167027,  0.9045324 ],\n",
       "       [-0.90530425,  0.04456139, -2.0799513 , ...,  0.558683  ,\n",
       "         0.26754048, -0.37137714],\n",
       "       ...,\n",
       "       [ 1.4056088 ,  0.05423704, -1.088891  , ..., -1.0354873 ,\n",
       "         0.32125464,  1.4435543 ],\n",
       "       [ 0.26614946,  1.3424605 ,  0.76443064, ...,  1.2876545 ,\n",
       "         0.89401686,  0.38838202],\n",
       "       [ 0.1791303 ,  0.13732897,  1.7306836 , ...,  0.38411716,\n",
       "         1.2699164 ,  1.4800925 ]], dtype=float32)"
      ]
     },
     "execution_count": 47,
     "metadata": {},
     "output_type": "execute_result"
    }
   ],
   "source": [
    "pretrained_weights = torch.load('pretrained_vhred.pkl')['encoder.embedding.weight'].cpu().detach().numpy()\n",
    "pretrained_weights"
   ]
  },
  {
   "cell_type": "code",
   "execution_count": 52,
   "metadata": {},
   "outputs": [
    {
     "data": {
      "text/plain": [
       "True"
      ]
     },
     "execution_count": 52,
     "metadata": {},
     "output_type": "execute_result"
    }
   ],
   "source": [
    "np.array_equal(adem_emb, pretrained_weights)"
   ]
  },
  {
   "cell_type": "code",
   "execution_count": null,
   "metadata": {},
   "outputs": [],
   "source": []
  }
 ],
 "metadata": {
  "kernelspec": {
   "display_name": "Python 3",
   "language": "python",
   "name": "python3"
  },
  "language_info": {
   "codemirror_mode": {
    "name": "ipython",
    "version": 3
   },
   "file_extension": ".py",
   "mimetype": "text/x-python",
   "name": "python",
   "nbconvert_exporter": "python",
   "pygments_lexer": "ipython3",
   "version": "3.6.6"
  }
 },
 "nbformat": 4,
 "nbformat_minor": 2
}
